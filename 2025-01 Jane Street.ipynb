{
 "cells": [
  {
   "cell_type": "code",
   "execution_count": 7,
   "metadata": {},
   "outputs": [
    {
     "data": {
      "text/plain": [
       "['12345679', '24691358', '61728395', '98765432']"
      ]
     },
     "execution_count": 7,
     "metadata": {},
     "output_type": "execute_result"
    }
   ],
   "source": [
    "import math\n",
    "import functools\n",
    "from math import gcd\n",
    "from functools import reduce\n",
    "\n",
    "def distinct_digits(n: int) -> bool:\n",
    "    s = str(n)\n",
    "    return len(set(s)) == len(s)\n",
    "\n",
    "M = 12345679  # 37 * 333,667 - GCD of all valid numbers\n",
    "candidates = []\n",
    "for k in range(1, 100):\n",
    "    val = M * k\n",
    "    if 10_000_000 <= val <= 99_999_999 and distinct_digits(val):\n",
    "        s = str(val)\n",
    "        if '0' not in s and '2' in s and '5' in s:\n",
    "            candidates.append(s)\n",
    "\n",
    "sorted(candidates)"
   ]
  },
  {
   "cell_type": "code",
   "execution_count": 8,
   "metadata": {},
   "outputs": [
    {
     "data": {
      "text/plain": [
       "[('012345679', 12345679, 456790123),\n",
       " ('024691358', 12345679, 913580246),\n",
       " ('061728395', 12345679, 283950617),\n",
       " ('098765432', 12345679, 654320987)]"
      ]
     },
     "execution_count": 8,
     "metadata": {},
     "output_type": "execute_result"
    }
   ],
   "source": [
    "#soduke grid and GCD computation\n",
    "def build_grid_from_base(base_str: str):\n",
    "    # base_str is 9 distinct digits (as a string)\n",
    "    row = [int(ch) for ch in base_str]\n",
    "    def shift(lst, k):\n",
    "        k %= 9\n",
    "        return lst[k:] + lst[:k]\n",
    "    shifts = [0,3,6,1,4,7,2,5,8]\n",
    "    return [shift(row, k) for k in shifts]\n",
    "\n",
    "def row_number(row):\n",
    "    v = 0\n",
    "    for d in row:\n",
    "        v = v*10 + d\n",
    "    return v\n",
    "\n",
    "def grid_gcd(grid):\n",
    "    nums = [row_number(r) for r in grid]\n",
    "    return reduce(gcd, nums), nums\n",
    "\n",
    "grids = []\n",
    "for s in sorted(candidates):\n",
    "    base = '0' + s\n",
    "    G = build_grid_from_base(base)\n",
    "    gval, nums = grid_gcd(G)\n",
    "    grids.append((base, gval, nums, G))\n",
    "\n",
    "# sense checking - base, gcd, last row number\n",
    "[(base, gval, nums[4]) for (base, gval, nums, G) in grids]\n"
   ]
  },
  {
   "cell_type": "code",
   "execution_count": 10,
   "metadata": {},
   "outputs": [
    {
     "name": "stdout",
     "output_type": "stream",
     "text": [
      "Base: 012345679  |  GCD of row numbers: 12345679  |  Middle row: 456790123\n",
      "0 1 2  3 4 5  6 7 9\n",
      "3 4 5  6 7 9  0 1 2\n",
      "6 7 9  0 1 2  3 4 5\n",
      "\n",
      "1 2 3  4 5 6  7 9 0\n",
      "4 5 6  7 9 0  1 2 3\n",
      "7 9 0  1 2 3  4 5 6\n",
      "\n",
      "2 3 4  5 6 7  9 0 1\n",
      "5 6 7  9 0 1  2 3 4\n",
      "9 0 1  2 3 4  5 6 7\n",
      "\n",
      "------------------------------------------------\n",
      "\n",
      "Base: 024691358  |  GCD of row numbers: 12345679  |  Middle row: 913580246\n",
      "0 2 4  6 9 1  3 5 8\n",
      "6 9 1  3 5 8  0 2 4\n",
      "3 5 8  0 2 4  6 9 1\n",
      "\n",
      "2 4 6  9 1 3  5 8 0\n",
      "9 1 3  5 8 0  2 4 6\n",
      "5 8 0  2 4 6  9 1 3\n",
      "\n",
      "4 6 9  1 3 5  8 0 2\n",
      "1 3 5  8 0 2  4 6 9\n",
      "8 0 2  4 6 9  1 3 5\n",
      "\n",
      "------------------------------------------------\n",
      "\n",
      "Base: 061728395  |  GCD of row numbers: 12345679  |  Middle row: 283950617\n",
      "0 6 1  7 2 8  3 9 5\n",
      "7 2 8  3 9 5  0 6 1\n",
      "3 9 5  0 6 1  7 2 8\n",
      "\n",
      "6 1 7  2 8 3  9 5 0\n",
      "2 8 3  9 5 0  6 1 7\n",
      "9 5 0  6 1 7  2 8 3\n",
      "\n",
      "1 7 2  8 3 9  5 0 6\n",
      "8 3 9  5 0 6  1 7 2\n",
      "5 0 6  1 7 2  8 3 9\n",
      "\n",
      "------------------------------------------------\n",
      "\n",
      "Base: 098765432  |  GCD of row numbers: 12345679  |  Middle row: 654320987\n",
      "0 9 8  7 6 5  4 3 2\n",
      "7 6 5  4 3 2  0 9 8\n",
      "4 3 2  0 9 8  7 6 5\n",
      "\n",
      "9 8 7  6 5 4  3 2 0\n",
      "6 5 4  3 2 0  9 8 7\n",
      "3 2 0  9 8 7  6 5 4\n",
      "\n",
      "8 7 6  5 4 3  2 0 9\n",
      "5 4 3  2 0 9  8 7 6\n",
      "2 0 9  8 7 6  5 4 3\n",
      "\n",
      "------------------------------------------------\n",
      "\n"
     ]
    }
   ],
   "source": [
    "def print_grid(G):\n",
    "    for r in range(9):\n",
    "        line = \"\"\n",
    "        for c in range(9):\n",
    "            line += str(G[r][c]) + (\" \" if (c % 3 != 2) else \"  \")\n",
    "        print(line.rstrip())\n",
    "        if r % 3 == 2 and r != 8:\n",
    "            print()\n",
    "\n",
    "for base, gval, nums, G in grids:\n",
    "    print(f\"Base: {base}  |  GCD of row numbers: {gval}  |  Middle row: {nums[4]:09d}\")\n",
    "    print_grid(G)\n",
    "    print(\"\\n\" + \"-\"*48 + \"\\n\")\n"
   ]
  }
 ],
 "metadata": {
  "kernelspec": {
   "display_name": "Python 3",
   "language": "python",
   "name": "python3"
  },
  "language_info": {
   "codemirror_mode": {
    "name": "ipython",
    "version": 3
   },
   "file_extension": ".py",
   "mimetype": "text/x-python",
   "name": "python",
   "nbconvert_exporter": "python",
   "pygments_lexer": "ipython3",
   "version": "3.12.3"
  }
 },
 "nbformat": 4,
 "nbformat_minor": 2
}
