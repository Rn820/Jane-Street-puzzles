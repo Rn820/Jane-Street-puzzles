{
 "cells": [
  {
   "cell_type": "code",
   "execution_count": 5,
   "metadata": {},
   "outputs": [
    {
     "name": "stdout",
     "output_type": "stream",
     "text": [
      "Approximate root p = 0.5306035754\n",
      "Check: 3p^3 - 10p^2 + 12p - 4 = 1.138e-11\n"
     ]
    }
   ],
   "source": [
    "def poly(p: float) -> float:\n",
    "    \"\"\"Cubic from the problem statement.\"\"\"\n",
    "    return 3*p**3 - 10*p**2 + 12*p - 4\n",
    "\n",
    "# sign change interval\n",
    "lo, hi = 0.0, 1.0\n",
    "flo, fhi = poly(lo), poly(hi)\n",
    "\n",
    "if flo * fhi > 0:\n",
    "    raise ValueError(\"No sign change on [0,1]; adjust interval.\")\n",
    "\n",
    "# bisection loop \n",
    "tolerance = 1e-10\n",
    "while hi - lo > tolerance:\n",
    "    mid = 0.5 * (lo + hi)\n",
    "    fm = poly(mid)\n",
    "\n",
    "    # subinterval where sign changes\n",
    "    if flo * fm <= 0:\n",
    "        hi = mid\n",
    "        fhi = fm\n",
    "    else:\n",
    "        lo = mid\n",
    "        flo = fm\n",
    "\n",
    "p = 0.5 * (lo + hi)\n",
    "\n",
    "print(f\"Approximate root p = {p:.10f}\")\n",
    "print(f\"Check: 3p^3 - 10p^2 + 12p - 4 = {poly(p):.3e}\")\n"
   ]
  },
  {
   "cell_type": "code",
   "execution_count": 6,
   "metadata": {},
   "outputs": [
    {
     "name": "stdout",
     "output_type": "stream",
     "text": [
      "p ≈ 0.5306035754\n"
     ]
    }
   ],
   "source": [
    "#numpy approach looking at roots instead of bisection\n",
    "import numpy as np\n",
    "\n",
    "p = [r.real for r in np.roots([3, -10, 12, -4]) if abs(r.imag) < 1e-12 and 0 < r.real < 1][0]\n",
    "\n",
    "print(f\"p ≈ {p:.10f}\")"
   ]
  },
  {
   "cell_type": "code",
   "execution_count": null,
   "metadata": {},
   "outputs": [],
   "source": []
  }
 ],
 "metadata": {
  "kernelspec": {
   "display_name": "Python 3",
   "language": "python",
   "name": "python3"
  },
  "language_info": {
   "codemirror_mode": {
    "name": "ipython",
    "version": 3
   },
   "file_extension": ".py",
   "mimetype": "text/x-python",
   "name": "python",
   "nbconvert_exporter": "python",
   "pygments_lexer": "ipython3",
   "version": "3.12.3"
  }
 },
 "nbformat": 4,
 "nbformat_minor": 2
}
